{
 "cells": [
  {
   "cell_type": "code",
   "execution_count": 1,
   "id": "1291f381-e44d-47e9-8d7e-80d81f15417d",
   "metadata": {},
   "outputs": [],
   "source": [
    "import os\n",
    "\n",
    "import numpy as np\n",
    "import pandas as pd\n",
    "from scipy import io\n",
    "\n",
    "from tqdm import tqdm"
   ]
  },
  {
   "cell_type": "code",
   "execution_count": null,
   "id": "88c5c035-5e03-4c0f-b6ee-b9f172b55e9d",
   "metadata": {},
   "outputs": [
    {
     "name": "stderr",
     "output_type": "stream",
     "text": [
      "Processing Tail_682_8:  81%|████████████▉   | 486/602 [1:16:55<21:35, 11.17s/it]"
     ]
    }
   ],
   "source": [
    "# Шаг 1: Создание директорий\n",
    "dirs = os.listdir('Dataset')\n",
    "dirs = sorted(dirs)\n",
    "base_directory = 'result'\n",
    "\n",
    "for directory in dirs:\n",
    "    directory_path = os.path.join(base_directory, directory)\n",
    "    os.makedirs(directory_path, exist_ok=True)\n",
    "\n",
    "for directory in dirs[7:]:\n",
    "    mat_path = os.path.join('Dataset', directory)\n",
    "    directory_path = os.path.join(base_directory, directory)\n",
    "    \n",
    "    files = os.listdir(mat_path)\n",
    "\n",
    "    for file_name in tqdm(files, desc=f'Processing {directory}', position=0, leave=True):\n",
    "        \n",
    "        mat_file_path = os.path.join(mat_path, file_name)\n",
    "\n",
    "        mat_data = io.loadmat(mat_file_path)\n",
    "\n",
    "        df = pd.DataFrame()\n",
    "\n",
    "        for variable_name in mat_data.keys():\n",
    "            if not variable_name.startswith('__') and not callable(mat_data[variable_name]):\n",
    "\n",
    "                df_col = pd.DataFrame(mat_data[variable_name][0][0][0].reshape(-1), columns=[variable_name])\n",
    "\n",
    "                df = pd.concat([df, df_col], axis=1)\n",
    "\n",
    "        df = df.astype(np.float32)\n",
    "        csv_file_name = os.path.splitext(file_name)[0] + '.csv'\n",
    "        csv_file_path = os.path.join(directory_path, csv_file_name)\n",
    "\n",
    "        df.to_csv(csv_file_path, index=False)"
   ]
  },
  {
   "cell_type": "code",
   "execution_count": null,
   "id": "bdf1fe49-d05c-4d6b-a96a-49a5ecf34a25",
   "metadata": {},
   "outputs": [],
   "source": []
  }
 ],
 "metadata": {
  "kernelspec": {
   "display_name": "rhino",
   "language": "python",
   "name": "rhino"
  },
  "language_info": {
   "codemirror_mode": {
    "name": "ipython",
    "version": 3
   },
   "file_extension": ".py",
   "mimetype": "text/x-python",
   "name": "python",
   "nbconvert_exporter": "python",
   "pygments_lexer": "ipython3",
   "version": "3.10.13"
  }
 },
 "nbformat": 4,
 "nbformat_minor": 5
}
